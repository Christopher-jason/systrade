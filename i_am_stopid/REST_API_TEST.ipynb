{
 "cells": [
  {
   "cell_type": "code",
   "execution_count": 21,
   "metadata": {},
   "outputs": [],
   "source": [
    "import alpaca_trade_api as api\n",
    "import config"
   ]
  },
  {
   "cell_type": "code",
   "execution_count": 25,
   "metadata": {},
   "outputs": [],
   "source": [
    "BASEURL = 'https://paper-api.alpaca.markets'\n",
    "client = api.REST(config.API_KEY, config.SECRET_KEY, BASEURL)"
   ]
  },
  {
   "cell_type": "code",
   "execution_count": 27,
   "metadata": {},
   "outputs": [
    {
     "data": {
      "text/plain": [
       "Account({   'account_blocked': False,\n",
       "    'account_number': 'PA338AXZST9I',\n",
       "    'accrued_fees': '0',\n",
       "    'admin_configurations': {},\n",
       "    'balance_asof': '2024-05-03',\n",
       "    'bod_dtbp': '0',\n",
       "    'buying_power': '160848',\n",
       "    'cash': '136657.25',\n",
       "    'created_at': '2024-05-01T11:28:47.209557Z',\n",
       "    'crypto_status': 'ACTIVE',\n",
       "    'crypto_tier': 1,\n",
       "    'currency': 'USD',\n",
       "    'daytrade_count': 0,\n",
       "    'daytrading_buying_power': '0',\n",
       "    'effective_buying_power': '160848',\n",
       "    'equity': '100390.95',\n",
       "    'id': 'bcae3b53-2071-4fde-9fc9-d69af6946507',\n",
       "    'initial_margin': '19966.95',\n",
       "    'last_equity': '100390.95',\n",
       "    'last_maintenance_margin': '15603.97',\n",
       "    'long_market_value': '1833.8',\n",
       "    'maintenance_margin': '15603.97',\n",
       "    'multiplier': '2',\n",
       "    'non_marginable_buying_power': '80424',\n",
       "    'options_approved_level': 2,\n",
       "    'options_buying_power': '84786.98',\n",
       "    'options_trading_level': 2,\n",
       "    'pattern_day_trader': False,\n",
       "    'pending_transfer_in': '0',\n",
       "    'portfolio_value': '100390.95',\n",
       "    'position_market_value': '39933.9',\n",
       "    'regt_buying_power': '160848',\n",
       "    'short_market_value': '-38100.1',\n",
       "    'shorting_enabled': True,\n",
       "    'sma': '100538.35',\n",
       "    'status': 'ACTIVE',\n",
       "    'trade_suspended_by_user': False,\n",
       "    'trading_blocked': False,\n",
       "    'transfers_blocked': False,\n",
       "    'user_configurations': None})"
      ]
     },
     "execution_count": 27,
     "metadata": {},
     "output_type": "execute_result"
    }
   ],
   "source": [
    "account = client.get_account()\n",
    "account"
   ]
  },
  {
   "cell_type": "code",
   "execution_count": 30,
   "metadata": {},
   "outputs": [],
   "source": [
    "close = client.close_position('AMZN')"
   ]
  },
  {
   "cell_type": "code",
   "execution_count": 36,
   "metadata": {},
   "outputs": [
    {
     "ename": "AttributeError",
     "evalue": "'REST' object has no attribute 'get_orders'",
     "output_type": "error",
     "traceback": [
      "\u001b[0;31m---------------------------------------------------------------------------\u001b[0m",
      "\u001b[0;31mAttributeError\u001b[0m                            Traceback (most recent call last)",
      "Cell \u001b[0;32mIn[36], line 1\u001b[0m\n\u001b[0;32m----> 1\u001b[0m \u001b[43mclient\u001b[49m\u001b[38;5;241;43m.\u001b[39;49m\u001b[43mget_orders\u001b[49m(status \u001b[38;5;241m=\u001b[39m \u001b[38;5;124m'\u001b[39m\u001b[38;5;124mopen\u001b[39m\u001b[38;5;124m'\u001b[39m)\n",
      "\u001b[0;31mAttributeError\u001b[0m: 'REST' object has no attribute 'get_orders'"
     ]
    }
   ],
   "source": [
    "client.get_orders(status = 'open')"
   ]
  },
  {
   "cell_type": "code",
   "execution_count": null,
   "metadata": {},
   "outputs": [],
   "source": []
  }
 ],
 "metadata": {
  "kernelspec": {
   "display_name": "alpaca",
   "language": "python",
   "name": "python3"
  },
  "language_info": {
   "codemirror_mode": {
    "name": "ipython",
    "version": 3
   },
   "file_extension": ".py",
   "mimetype": "text/x-python",
   "name": "python",
   "nbconvert_exporter": "python",
   "pygments_lexer": "ipython3",
   "version": "3.9.13"
  }
 },
 "nbformat": 4,
 "nbformat_minor": 2
}
